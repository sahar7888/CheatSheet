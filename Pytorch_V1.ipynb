{
  "nbformat": 4,
  "nbformat_minor": 0,
  "metadata": {
    "colab": {
      "provenance": [],
      "authorship_tag": "ABX9TyMiurshYewpJhv8RiZGF4Yh",
      "include_colab_link": true
    },
    "kernelspec": {
      "name": "python3",
      "display_name": "Python 3"
    },
    "language_info": {
      "name": "python"
    }
  },
  "cells": [
    {
      "cell_type": "markdown",
      "metadata": {
        "id": "view-in-github",
        "colab_type": "text"
      },
      "source": [
        "<a href=\"https://colab.research.google.com/github/sahar7888/CheatSheet/blob/main/Pytorch_V1.ipynb\" target=\"_parent\"><img src=\"https://colab.research.google.com/assets/colab-badge.svg\" alt=\"Open In Colab\"/></a>"
      ]
    },
    {
      "cell_type": "code",
      "execution_count": 1,
      "metadata": {
        "id": "-lcRJDybF5kM"
      },
      "outputs": [],
      "source": [
        "import numpy as np\n",
        "import torch\n",
        "import torch.nn as nn\n",
        "import torch.optim as optim\n",
        "from sklearn.model_selection import train_test_split\n",
        "from sklearn.preprocessing import StandardScaler\n",
        "from sklearn.decomposition import PCA\n",
        "from sklearn.metrics import confusion_matrix\n",
        "import seaborn as sns\n",
        "import matplotlib.pyplot as plt\n",
        "from torch.utils.data import DataLoader, TensorDataset\n",
        "from torch.utils.data.dataset import random_split\n",
        "from torch.utils.data.dataloader import default_collate\n",
        "import os\n"
      ]
    },
    {
      "cell_type": "code",
      "source": [
        "# Function to generate random circular dataset\n",
        "def generate_circular_dataset(n_samples, radius, noise):\n",
        "    theta = np.random.rand(n_samples) * 2 * np.pi\n",
        "    x = radius * np.cos(theta) + np.random.normal(scale=noise, size=n_samples)\n",
        "    y = radius * np.sin(theta) + np.random.normal(scale=noise, size=n_samples)\n",
        "    return np.column_stack((x, y))\n"
      ],
      "metadata": {
        "id": "xuWbPxq5GFYq"
      },
      "execution_count": 2,
      "outputs": []
    },
    {
      "cell_type": "code",
      "source": [
        "# Generate random circular dataset for class 0 and class 1\n",
        "n_samples = 1000\n",
        "radius_0 = 3\n",
        "radius_1 = 5\n",
        "noise = 0.1\n",
        "\n",
        "X_class_0 = generate_circular_dataset(n_samples // 2, radius_0, noise)\n",
        "y_class_0 = np.zeros((n_samples // 2,), dtype=int)\n",
        "\n",
        "X_class_1 = generate_circular_dataset(n_samples // 2, radius_1, noise)\n",
        "y_class_1 = np.ones((n_samples // 2,), dtype=int)\n",
        "\n",
        "X = np.vstack((X_class_0, X_class_1))\n",
        "y = np.hstack((y_class_0, y_class_1))"
      ],
      "metadata": {
        "id": "1kIY7VeNGNMN"
      },
      "execution_count": 3,
      "outputs": []
    },
    {
      "cell_type": "code",
      "source": [
        "# Shuffle the dataset\n",
        "shuffle_idx = np.random.permutation(n_samples)\n",
        "X = X[shuffle_idx]\n",
        "y = y[shuffle_idx]"
      ],
      "metadata": {
        "id": "ABvM4KdbGWS4"
      },
      "execution_count": 4,
      "outputs": []
    },
    {
      "cell_type": "code",
      "source": [
        "# Split the data into training and testing sets\n",
        "X_train, X_test, y_train, y_test = train_test_split(X, y, test_size=0.2, random_state=42)"
      ],
      "metadata": {
        "id": "aEWKm57OGZRn"
      },
      "execution_count": 5,
      "outputs": []
    },
    {
      "cell_type": "code",
      "source": [
        "# Apply PCA for dimensionality reduction\n",
        "pca = PCA(n_components=2)  # No need for dimensionality reduction in this case\n",
        "X_train_pca = pca.fit_transform(X_train)\n",
        "X_test_pca = pca.transform(X_test)\n"
      ],
      "metadata": {
        "id": "-GVMDxrQGbg_"
      },
      "execution_count": 6,
      "outputs": []
    },
    {
      "cell_type": "code",
      "source": [
        "# Convert to PyTorch tensors\n",
        "X_train_tensor = torch.tensor(X_train_pca, dtype=torch.float32)\n",
        "y_train_tensor = torch.tensor(y_train, dtype=torch.float32)\n",
        "X_test_tensor = torch.tensor(X_test_pca, dtype=torch.float32)\n",
        "y_test_tensor = torch.tensor(y_test, dtype=torch.float32)"
      ],
      "metadata": {
        "id": "5X85PiGJGeMd"
      },
      "execution_count": 7,
      "outputs": []
    },
    {
      "cell_type": "code",
      "source": [
        "# Define the model architecture\n",
        "class NeuralNetwork(nn.Module):\n",
        "    def __init__(self):\n",
        "        super(NeuralNetwork, self).__init__()\n",
        "        self.fc1 = nn.Linear(2, 64)\n",
        "        self.fc2 = nn.Linear(64, 32)\n",
        "        self.fc3 = nn.Linear(32, 1)\n",
        "        self.dropout = nn.Dropout(0.2)\n",
        "\n",
        "    def forward(self, x):\n",
        "        x = torch.relu(self.fc1(x))\n",
        "        x = self.dropout(x)\n",
        "        x = torch.relu(self.fc2(x))\n",
        "        x = self.dropout(x)\n",
        "        x = torch.sigmoid(self.fc3(x))\n",
        "        return x"
      ],
      "metadata": {
        "id": "b0N_giPfGhFv"
      },
      "execution_count": 8,
      "outputs": []
    },
    {
      "cell_type": "code",
      "source": [
        "# Create an instance of the model\n",
        "model = NeuralNetwork()"
      ],
      "metadata": {
        "id": "2iujuyvLGq80"
      },
      "execution_count": 9,
      "outputs": []
    },
    {
      "cell_type": "code",
      "source": [
        "# Define loss function and optimizer\n",
        "criterion = nn.BCELoss()\n",
        "optimizer = optim.Adam(model.parameters(), lr=0.001)"
      ],
      "metadata": {
        "id": "wp98LVf7Gta-"
      },
      "execution_count": 10,
      "outputs": []
    },
    {
      "cell_type": "code",
      "source": [
        "# Define PyTorch dataset and dataloaders\n",
        "train_dataset = TensorDataset(X_train_tensor, y_train_tensor)\n",
        "train_loader = DataLoader(train_dataset, batch_size=32, shuffle=True)"
      ],
      "metadata": {
        "id": "fMLwbB3yGvmI"
      },
      "execution_count": 11,
      "outputs": []
    },
    {
      "cell_type": "code",
      "source": [
        "# Train the model\n",
        "num_epochs = 50\n",
        "train_losses = []\n",
        "test_losses = []\n",
        "for epoch in range(num_epochs):\n",
        "    running_loss = 0.0\n",
        "    for inputs, labels in train_loader:\n",
        "        optimizer.zero_grad()\n",
        "        outputs = model(inputs)\n",
        "        loss = criterion(outputs, labels.unsqueeze(1))\n",
        "        loss.backward()\n",
        "        optimizer.step()\n",
        "        running_loss += loss.item() * inputs.size(0)\n",
        "    train_loss = running_loss / len(train_dataset)\n",
        "    train_losses.append(train_loss)\n",
        ""
      ],
      "metadata": {
        "id": "ysCyK5_GGyQs"
      },
      "execution_count": 12,
      "outputs": []
    },
    {
      "cell_type": "code",
      "source": [
        "# Evaluate the model on test data\n",
        "with torch.no_grad():\n",
        "    model.eval()\n",
        "    outputs = model(X_test_tensor)\n",
        "    test_loss = criterion(outputs, y_test_tensor.unsqueeze(1))\n",
        "    test_losses.append(test_loss.item())\n",
        "print(f\"Epoch {epoch+1}/{num_epochs}, Train Loss: {train_loss:.4f}, Test Loss: {test_loss.item():.4f}\")"
      ],
      "metadata": {
        "colab": {
          "base_uri": "https://localhost:8080/"
        },
        "id": "F7m2dnBaG1Ah",
        "outputId": "afe1b96e-8b8d-4d7d-95a2-6847dc5f2930"
      },
      "execution_count": 17,
      "outputs": [
        {
          "output_type": "stream",
          "name": "stdout",
          "text": [
            "Epoch 50/50, Train Loss: 0.0307, Test Loss: 0.0031\n"
          ]
        }
      ]
    },
    {
      "cell_type": "code",
      "source": [
        "# Evaluate the model\n",
        "with torch.no_grad():\n",
        "    model.eval()\n",
        "    outputs = model(X_test_tensor)\n",
        "    y_pred = torch.round(outputs).squeeze().numpy()\n",
        "    test_loss = criterion(outputs, y_test_tensor.unsqueeze(1))\n",
        "    print(f'Test Loss: {test_loss.item():.4f}')"
      ],
      "metadata": {
        "colab": {
          "base_uri": "https://localhost:8080/"
        },
        "id": "VD5xXCS7IE82",
        "outputId": "d76add72-297a-459c-d6b3-1459c79898d5"
      },
      "execution_count": 21,
      "outputs": [
        {
          "output_type": "stream",
          "name": "stdout",
          "text": [
            "Test Loss: 0.0031\n"
          ]
        }
      ]
    },
    {
      "cell_type": "code",
      "source": [
        "# Calculate confusion matrix\n",
        "cm = confusion_matrix(y_test, y_pred)\n",
        "\n",
        "# Plot confusion matrix\n",
        "plt.figure(figsize=(8, 6))\n",
        "sns.heatmap(cm, annot=True, fmt='d', cmap='Blues', cbar=False)\n",
        "plt.title('Confusion Matrix')\n",
        "plt.xlabel('Predicted Label')\n",
        "plt.ylabel('True Label')\n",
        "plt.show()"
      ],
      "metadata": {
        "colab": {
          "base_uri": "https://localhost:8080/",
          "height": 564
        },
        "id": "c1CbneDSH-uS",
        "outputId": "4e7e289c-8959-42ed-8ca4-13da74981969"
      },
      "execution_count": 22,
      "outputs": [
        {
          "output_type": "display_data",
          "data": {
            "text/plain": [
              "<Figure size 800x600 with 1 Axes>"
            ],
            "image/png": "[encoded data removed]"
          },
          "metadata": {}
        }
      ]
    },
    {
      "cell_type": "code",
      "source": [
        "# Plot training and test loss\n",
        "plt.figure(figsize=(10, 6))\n",
        "plt.plot(train_losses, label='Train Loss')\n",
        "plt.plot(test_losses, label='Test Loss')\n",
        "plt.title('Training and Test Loss')\n",
        "plt.xlabel('Epoch')\n",
        "plt.ylabel('Loss')\n",
        "plt.legend()\n",
        "plt.show()"
      ],
      "metadata": {
        "colab": {
          "base_uri": "https://localhost:8080/",
          "height": 564
        },
        "id": "UiaOsi7FHE-C",
        "outputId": "f01b147a-3b9a-4831-b238-4e96ee7a089c"
      },
      "execution_count": 20,
      "outputs": [
        {
          "output_type": "display_data",
          "data": {
            "text/plain": [
              "<Figure size 1000x600 with 1 Axes>"
            ],
            "image/png": "[encoded data removed]"
          },
          "metadata": {}
        }
      ]
    },
    {
      "cell_type": "code",
      "source": [
        "# Save the trained model\n",
        "MODEL_PATH = \"model.pth\"\n",
        "torch.save(model.state_dict(), MODEL_PATH)\n",
        "\n",
        "# Reload the model\n",
        "loaded_model = NeuralNetwork()\n",
        "loaded_model.load_state_dict(torch.load(MODEL_PATH))\n",
        "loaded_model.eval()\n",
        "\n",
        "# Create new data for prediction\n",
        "X_new = np.array([[2.5, 4.5], [4.0, 2.0]])  # Example new data\n",
        "X_new_tensor = torch.tensor(X_new, dtype=torch.float32)\n",
        "\n",
        "# Perform prediction using the loaded model\n",
        "with torch.no_grad():\n",
        "    predictions = loaded_model(X_new_tensor)\n",
        "    y_pred = torch.round(predictions).squeeze().numpy()\n",
        "\n",
        "# Print the predicted labels\n",
        "for i, pred in enumerate(y_pred):\n",
        "    print(f'Prediction for sample {i+1}: {pred}')"
      ],
      "metadata": {
        "colab": {
          "base_uri": "https://localhost:8080/"
        },
        "id": "RKFrBk1nHeQr",
        "outputId": "9833922d-d97e-445d-b050-5a3cc00488ad"
      },
      "execution_count": 19,
      "outputs": [
        {
          "output_type": "stream",
          "name": "stdout",
          "text": [
            "Prediction for sample 1: 1.0\n",
            "Prediction for sample 2: 1.0\n"
          ]
        }
      ]
    },
    {
      "cell_type": "code",
      "source": [],
      "metadata": {
        "id": "mDspC2FeHyj8"
      },
      "execution_count": null,
      "outputs": []
    }
  ]
}