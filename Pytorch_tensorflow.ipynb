{
  "nbformat": 4,
  "nbformat_minor": 0,
  "metadata": {
    "colab": {
      "provenance": [],
      "gpuType": "L4",
      "authorship_tag": "ABX9TyNgZbxUk16c7V9gB9rIkC8b",
      "include_colab_link": true
    },
    "kernelspec": {
      "name": "python3",
      "display_name": "Python 3"
    },
    "language_info": {
      "name": "python"
    },
    "accelerator": "GPU",
    "widgets": {
      "application/vnd.jupyter.widget-state+json": {
        "ef7e337a71dc4a4fbbc492e8172e809f": {
          "model_module": "@jupyter-widgets/controls",
          "model_name": "HBoxModel",
          "model_module_version": "1.5.0",
          "state": {
            "_dom_classes": [],
            "_model_module": "@jupyter-widgets/controls",
            "_model_module_version": "1.5.0",
            "_model_name": "HBoxModel",
            "_view_count": null,
            "_view_module": "@jupyter-widgets/controls",
            "_view_module_version": "1.5.0",
            "_view_name": "HBoxView",
            "box_style": "",
            "children": [
              "IPY_MODEL_f137cd2057744155976a03577a32df24",
              "IPY_MODEL_debf86cfcbbe497fbf5cc95371d4542c",
              "IPY_MODEL_7cd3163692f44d8d928f9e8f443ea45f"
            ],
            "layout": "IPY_MODEL_6f2d041d99de4a28bef9524f987cde12"
          }
        },
        "f137cd2057744155976a03577a32df24": {
          "model_module": "@jupyter-widgets/controls",
          "model_name": "HTMLModel",
          "model_module_version": "1.5.0",
          "state": {
            "_dom_classes": [],
            "_model_module": "@jupyter-widgets/controls",
            "_model_module_version": "1.5.0",
            "_model_name": "HTMLModel",
            "_view_count": null,
            "_view_module": "@jupyter-widgets/controls",
            "_view_module_version": "1.5.0",
            "_view_name": "HTMLView",
            "description": "",
            "description_tooltip": null,
            "layout": "IPY_MODEL_6ada7f8180c7452abec3491d5ec6621e",
            "placeholder": "​",
            "style": "IPY_MODEL_c9f75caf43de4074b32a20a6446a3c1f",
            "value": "100%"
          }
        },
        "debf86cfcbbe497fbf5cc95371d4542c": {
          "model_module": "@jupyter-widgets/controls",
          "model_name": "FloatProgressModel",
          "model_module_version": "1.5.0",
          "state": {
            "_dom_classes": [],
            "_model_module": "@jupyter-widgets/controls",
            "_model_module_version": "1.5.0",
            "_model_name": "FloatProgressModel",
            "_view_count": null,
            "_view_module": "@jupyter-widgets/controls",
            "_view_module_version": "1.5.0",
            "_view_name": "ProgressView",
            "bar_style": "success",
            "description": "",
            "description_tooltip": null,
            "layout": "IPY_MODEL_2f8f004f63d3413c8e01352836851496",
            "max": 10,
            "min": 0,
            "orientation": "horizontal",
            "style": "IPY_MODEL_7b9904fd0d064f588954da00a6e3b39d",
            "value": 10
          }
        },
        "7cd3163692f44d8d928f9e8f443ea45f": {
          "model_module": "@jupyter-widgets/controls",
          "model_name": "HTMLModel",
          "model_module_version": "1.5.0",
          "state": {
            "_dom_classes": [],
            "_model_module": "@jupyter-widgets/controls",
            "_model_module_version": "1.5.0",
            "_model_name": "HTMLModel",
            "_view_count": null,
            "_view_module": "@jupyter-widgets/controls",
            "_view_module_version": "1.5.0",
            "_view_name": "HTMLView",
            "description": "",
            "description_tooltip": null,
            "layout": "IPY_MODEL_661de94599ba499daf5aff5a0c20ace4",
            "placeholder": "​",
            "style": "IPY_MODEL_e7831b38b18c4de28cb88b2ed0046a6d",
            "value": " 10/10 [08:39&lt;00:00, 52.03s/it]"
          }
        },
        "6f2d041d99de4a28bef9524f987cde12": {
          "model_module": "@jupyter-widgets/base",
          "model_name": "LayoutModel",
          "model_module_version": "1.2.0",
          "state": {
            "_model_module": "@jupyter-widgets/base",
            "_model_module_version": "1.2.0",
            "_model_name": "LayoutModel",
            "_view_count": null,
            "_view_module": "@jupyter-widgets/base",
            "_view_module_version": "1.2.0",
            "_view_name": "LayoutView",
            "align_content": null,
            "align_items": null,
            "align_self": null,
            "border": null,
            "bottom": null,
            "display": null,
            "flex": null,
            "flex_flow": null,
            "grid_area": null,
            "grid_auto_columns": null,
            "grid_auto_flow": null,
            "grid_auto_rows": null,
            "grid_column": null,
            "grid_gap": null,
            "grid_row": null,
            "grid_template_areas": null,
            "grid_template_columns": null,
            "grid_template_rows": null,
            "height": null,
            "justify_content": null,
            "justify_items": null,
            "left": null,
            "margin": null,
            "max_height": null,
            "max_width": null,
            "min_height": null,
            "min_width": null,
            "object_fit": null,
            "object_position": null,
            "order": null,
            "overflow": null,
            "overflow_x": null,
            "overflow_y": null,
            "padding": null,
            "right": null,
            "top": null,
            "visibility": null,
            "width": null
          }
        },
        "6ada7f8180c7452abec3491d5ec6621e": {
          "model_module": "@jupyter-widgets/base",
          "model_name": "LayoutModel",
          "model_module_version": "1.2.0",
          "state": {
            "_model_module": "@jupyter-widgets/base",
            "_model_module_version": "1.2.0",
            "_model_name": "LayoutModel",
            "_view_count": null,
            "_view_module": "@jupyter-widgets/base",
            "_view_module_version": "1.2.0",
            "_view_name": "LayoutView",
            "align_content": null,
            "align_items": null,
            "align_self": null,
            "border": null,
            "bottom": null,
            "display": null,
            "flex": null,
            "flex_flow": null,
            "grid_area": null,
            "grid_auto_columns": null,
            "grid_auto_flow": null,
            "grid_auto_rows": null,
            "grid_column": null,
            "grid_gap": null,
            "grid_row": null,
            "grid_template_areas": null,
            "grid_template_columns": null,
            "grid_template_rows": null,
            "height": null,
            "justify_content": null,
            "justify_items": null,
            "left": null,
            "margin": null,
            "max_height": null,
            "max_width": null,
            "min_height": null,
            "min_width": null,
            "object_fit": null,
            "object_position": null,
            "order": null,
            "overflow": null,
            "overflow_x": null,
            "overflow_y": null,
            "padding": null,
            "right": null,
            "top": null,
            "visibility": null,
            "width": null
          }
        },
        "c9f75caf43de4074b32a20a6446a3c1f": {
          "model_module": "@jupyter-widgets/controls",
          "model_name": "DescriptionStyleModel",
          "model_module_version": "1.5.0",
          "state": {
            "_model_module": "@jupyter-widgets/controls",
            "_model_module_version": "1.5.0",
            "_model_name": "DescriptionStyleModel",
            "_view_count": null,
            "_view_module": "@jupyter-widgets/base",
            "_view_module_version": "1.2.0",
            "_view_name": "StyleView",
            "description_width": ""
          }
        },
        "2f8f004f63d3413c8e01352836851496": {
          "model_module": "@jupyter-widgets/base",
          "model_name": "LayoutModel",
          "model_module_version": "1.2.0",
          "state": {
            "_model_module": "@jupyter-widgets/base",
            "_model_module_version": "1.2.0",
            "_model_name": "LayoutModel",
            "_view_count": null,
            "_view_module": "@jupyter-widgets/base",
            "_view_module_version": "1.2.0",
            "_view_name": "LayoutView",
            "align_content": null,
            "align_items": null,
            "align_self": null,
            "border": null,
            "bottom": null,
            "display": null,
            "flex": null,
            "flex_flow": null,
            "grid_area": null,
            "grid_auto_columns": null,
            "grid_auto_flow": null,
            "grid_auto_rows": null,
            "grid_column": null,
            "grid_gap": null,
            "grid_row": null,
            "grid_template_areas": null,
            "grid_template_columns": null,
            "grid_template_rows": null,
            "height": null,
            "justify_content": null,
            "justify_items": null,
            "left": null,
            "margin": null,
            "max_height": null,
            "max_width": null,
            "min_height": null,
            "min_width": null,
            "object_fit": null,
            "object_position": null,
            "order": null,
            "overflow": null,
            "overflow_x": null,
            "overflow_y": null,
            "padding": null,
            "right": null,
            "top": null,
            "visibility": null,
            "width": null
          }
        },
        "7b9904fd0d064f588954da00a6e3b39d": {
          "model_module": "@jupyter-widgets/controls",
          "model_name": "ProgressStyleModel",
          "model_module_version": "1.5.0",
          "state": {
            "_model_module": "@jupyter-widgets/controls",
            "_model_module_version": "1.5.0",
            "_model_name": "ProgressStyleModel",
            "_view_count": null,
            "_view_module": "@jupyter-widgets/base",
            "_view_module_version": "1.2.0",
            "_view_name": "StyleView",
            "bar_color": null,
            "description_width": ""
          }
        },
        "661de94599ba499daf5aff5a0c20ace4": {
          "model_module": "@jupyter-widgets/base",
          "model_name": "LayoutModel",
          "model_module_version": "1.2.0",
          "state": {
            "_model_module": "@jupyter-widgets/base",
            "_model_module_version": "1.2.0",
            "_model_name": "LayoutModel",
            "_view_count": null,
            "_view_module": "@jupyter-widgets/base",
            "_view_module_version": "1.2.0",
            "_view_name": "LayoutView",
            "align_content": null,
            "align_items": null,
            "align_self": null,
            "border": null,
            "bottom": null,
            "display": null,
            "flex": null,
            "flex_flow": null,
            "grid_area": null,
            "grid_auto_columns": null,
            "grid_auto_flow": null,
            "grid_auto_rows": null,
            "grid_column": null,
            "grid_gap": null,
            "grid_row": null,
            "grid_template_areas": null,
            "grid_template_columns": null,
            "grid_template_rows": null,
            "height": null,
            "justify_content": null,
            "justify_items": null,
            "left": null,
            "margin": null,
            "max_height": null,
            "max_width": null,
            "min_height": null,
            "min_width": null,
            "object_fit": null,
            "object_position": null,
            "order": null,
            "overflow": null,
            "overflow_x": null,
            "overflow_y": null,
            "padding": null,
            "right": null,
            "top": null,
            "visibility": null,
            "width": null
          }
        },
        "e7831b38b18c4de28cb88b2ed0046a6d": {
          "model_module": "@jupyter-widgets/controls",
          "model_name": "DescriptionStyleModel",
          "model_module_version": "1.5.0",
          "state": {
            "_model_module": "@jupyter-widgets/controls",
            "_model_module_version": "1.5.0",
            "_model_name": "DescriptionStyleModel",
            "_view_count": null,
            "_view_module": "@jupyter-widgets/base",
            "_view_module_version": "1.2.0",
            "_view_name": "StyleView",
            "description_width": ""
          }
        }
      }
    }
  },
  "cells": [
    {
      "cell_type": "markdown",
      "metadata": {
        "id": "view-in-github",
        "colab_type": "text"
      },
      "source": [
        "<a href=\"https://colab.research.google.com/github/sahar7888/CheatSheet/blob/main/Pytorch_tensorflow.ipynb\" target=\"_parent\"><img src=\"https://colab.research.google.com/assets/colab-badge.svg\" alt=\"Open In Colab\"/></a>"
      ]
    },
    {
      "cell_type": "markdown",
      "source": [
        "# Section 1: Training with Pytorch"
      ],
      "metadata": {
        "id": "UKyYxfj0g5Rg"
      }
    },
    {
      "cell_type": "code",
      "source": [
        "#import libraries\n",
        "\n",
        "import torch\n",
        "from torch import nn\n",
        "from torch.utils.data import DataLoader\n",
        "import torchvision\n",
        "from torchvision import datasets\n",
        "from torchvision import transforms\n",
        "from torch.optim import Adam\n"
      ],
      "metadata": {
        "id": "v8o7ZxHVg-ko"
      },
      "execution_count": 23,
      "outputs": []
    },
    {
      "cell_type": "code",
      "source": [
        "#import data\n",
        "transform = transforms.Compose([transforms.ToTensor(), transforms.Normalize((0.5,), (0.5,))])"
      ],
      "metadata": {
        "id": "V6hVwZ4JhQXn"
      },
      "execution_count": 4,
      "outputs": []
    },
    {
      "cell_type": "code",
      "source": [
        "trainset = datasets.MNIST(root ='.',\n",
        "                          download = True,\n",
        "                          train = True,\n",
        "                          transform = transform)"
      ],
      "metadata": {
        "colab": {
          "base_uri": "https://localhost:8080/"
        },
        "id": "SD-kIsADh2qP",
        "outputId": "cdd73aad-ea43-4f2e-f6bf-decefa94f74b"
      },
      "execution_count": 5,
      "outputs": [
        {
          "output_type": "stream",
          "name": "stdout",
          "text": [
            "Downloading http://yann.lecun.com/exdb/mnist/train-images-idx3-ubyte.gz\n",
            "Failed to download (trying next):\n",
            "HTTP Error 403: Forbidden\n",
            "\n",
            "Downloading https://ossci-datasets.s3.amazonaws.com/mnist/train-images-idx3-ubyte.gz\n",
            "Downloading https://ossci-datasets.s3.amazonaws.com/mnist/train-images-idx3-ubyte.gz to ./MNIST/raw/train-images-idx3-ubyte.gz\n"
          ]
        },
        {
          "output_type": "stream",
          "name": "stderr",
          "text": [
            "100%|██████████| 9912422/9912422 [00:09<00:00, 1021906.30it/s]\n"
          ]
        },
        {
          "output_type": "stream",
          "name": "stdout",
          "text": [
            "Extracting ./MNIST/raw/train-images-idx3-ubyte.gz to ./MNIST/raw\n",
            "\n",
            "Downloading http://yann.lecun.com/exdb/mnist/train-labels-idx1-ubyte.gz\n",
            "Failed to download (trying next):\n",
            "HTTP Error 403: Forbidden\n",
            "\n",
            "Downloading https://ossci-datasets.s3.amazonaws.com/mnist/train-labels-idx1-ubyte.gz\n",
            "Downloading https://ossci-datasets.s3.amazonaws.com/mnist/train-labels-idx1-ubyte.gz to ./MNIST/raw/train-labels-idx1-ubyte.gz\n"
          ]
        },
        {
          "output_type": "stream",
          "name": "stderr",
          "text": [
            "100%|██████████| 28881/28881 [00:00<00:00, 134573.68it/s]\n"
          ]
        },
        {
          "output_type": "stream",
          "name": "stdout",
          "text": [
            "Extracting ./MNIST/raw/train-labels-idx1-ubyte.gz to ./MNIST/raw\n",
            "\n",
            "Downloading http://yann.lecun.com/exdb/mnist/t10k-images-idx3-ubyte.gz\n",
            "Failed to download (trying next):\n",
            "HTTP Error 403: Forbidden\n",
            "\n",
            "Downloading https://ossci-datasets.s3.amazonaws.com/mnist/t10k-images-idx3-ubyte.gz\n",
            "Downloading https://ossci-datasets.s3.amazonaws.com/mnist/t10k-images-idx3-ubyte.gz to ./MNIST/raw/t10k-images-idx3-ubyte.gz\n"
          ]
        },
        {
          "output_type": "stream",
          "name": "stderr",
          "text": [
            "100%|██████████| 1648877/1648877 [00:01<00:00, 1267101.40it/s]\n"
          ]
        },
        {
          "output_type": "stream",
          "name": "stdout",
          "text": [
            "Extracting ./MNIST/raw/t10k-images-idx3-ubyte.gz to ./MNIST/raw\n",
            "\n",
            "Downloading http://yann.lecun.com/exdb/mnist/t10k-labels-idx1-ubyte.gz\n",
            "Failed to download (trying next):\n",
            "HTTP Error 403: Forbidden\n",
            "\n",
            "Downloading https://ossci-datasets.s3.amazonaws.com/mnist/t10k-labels-idx1-ubyte.gz\n",
            "Downloading https://ossci-datasets.s3.amazonaws.com/mnist/t10k-labels-idx1-ubyte.gz to ./MNIST/raw/t10k-labels-idx1-ubyte.gz\n"
          ]
        },
        {
          "output_type": "stream",
          "name": "stderr",
          "text": [
            "100%|██████████| 4542/4542 [00:00<00:00, 4968839.01it/s]"
          ]
        },
        {
          "output_type": "stream",
          "name": "stdout",
          "text": [
            "Extracting ./MNIST/raw/t10k-labels-idx1-ubyte.gz to ./MNIST/raw\n",
            "\n"
          ]
        },
        {
          "output_type": "stream",
          "name": "stderr",
          "text": [
            "\n"
          ]
        }
      ]
    },
    {
      "cell_type": "code",
      "source": [
        "testset = datasets.MNIST(root ='.',\n",
        "                          download = True,\n",
        "                          train = False,\n",
        "                          transform = transform)"
      ],
      "metadata": {
        "id": "NZIoyM9YiIVQ"
      },
      "execution_count": 6,
      "outputs": []
    },
    {
      "cell_type": "code",
      "source": [
        "print (trainset.data.shape)"
      ],
      "metadata": {
        "colab": {
          "base_uri": "https://localhost:8080/"
        },
        "id": "h6QQyXYHiO1d",
        "outputId": "270d92e9-39ef-4ce8-e25d-bd75266d20d6"
      },
      "execution_count": 8,
      "outputs": [
        {
          "output_type": "stream",
          "name": "stdout",
          "text": [
            "torch.Size([60000, 28, 28])\n"
          ]
        }
      ]
    },
    {
      "cell_type": "code",
      "source": [
        "print (testset.data.shape)"
      ],
      "metadata": {
        "colab": {
          "base_uri": "https://localhost:8080/"
        },
        "id": "jcVeb2TKiXal",
        "outputId": "791832d6-05ef-49ec-b50a-317a533084fb"
      },
      "execution_count": 9,
      "outputs": [
        {
          "output_type": "stream",
          "name": "stdout",
          "text": [
            "torch.Size([10000, 28, 28])\n"
          ]
        }
      ]
    },
    {
      "cell_type": "code",
      "source": [
        "trainloader = DataLoader(trainset, batch_size = 128, shuffle=True)\n",
        "testloader = DataLoader(testset, batch_size = 128, shuffle=False)"
      ],
      "metadata": {
        "id": "F9lxDmAhiZ6N"
      },
      "execution_count": 11,
      "outputs": []
    },
    {
      "cell_type": "code",
      "source": [
        "\n",
        "#Create the CNN model\n",
        "class Net (nn.Module):\n",
        "  def __init__(self):\n",
        "    super(Net,self).__init__()\n",
        "    self.Net = nn.Sequential(\n",
        "        nn.Conv2d(1,32,(3,3)),\n",
        "        nn.ReLU(),\n",
        "        nn.Conv2d(32,64,(3,3)),\n",
        "        nn.ReLU(),\n",
        "        nn.MaxPool2d(2,2),\n",
        "\n",
        "        nn.Flatten(),\n",
        "        nn.Linear(9216,128),\n",
        "        nn.ReLU(),\n",
        "        nn.Linear(128,10)\n",
        "\n",
        "    )\n",
        "\n",
        "\n",
        "  def forward(self,x):\n",
        "    return self.Net(x)\n",
        "\n",
        "\n",
        "\n"
      ],
      "metadata": {
        "id": "OMQ5FLm8isM1"
      },
      "execution_count": 26,
      "outputs": []
    },
    {
      "cell_type": "code",
      "source": [
        "classifier = Net()"
      ],
      "metadata": {
        "id": "A8nPfzT4nLhF"
      },
      "execution_count": 27,
      "outputs": []
    },
    {
      "cell_type": "code",
      "source": [
        "classifier"
      ],
      "metadata": {
        "colab": {
          "base_uri": "https://localhost:8080/"
        },
        "id": "jyG5K34Znk41",
        "outputId": "37ed0b23-c710-4e1c-d9c1-5ac5b4c5faa5"
      },
      "execution_count": 22,
      "outputs": [
        {
          "output_type": "execute_result",
          "data": {
            "text/plain": [
              "Net(\n",
              "  (Net): Sequential(\n",
              "    (0): Conv2d(1, 32, kernel_size=(3, 3), stride=(1, 1))\n",
              "    (1): ReLU()\n",
              "    (2): Conv2d(32, 64, kernel_size=(3, 3), stride=(1, 1))\n",
              "    (3): ReLU()\n",
              "    (4): MaxPool2d(kernel_size=2, stride=2, padding=0, dilation=1, ceil_mode=False)\n",
              "    (5): Flatten(start_dim=1, end_dim=-1)\n",
              "    (6): Linear(in_features=9216, out_features=128, bias=True)\n",
              "    (7): ReLU()\n",
              "    (8): Linear(in_features=128, out_features=10, bias=True)\n",
              "  )\n",
              ")"
            ]
          },
          "metadata": {},
          "execution_count": 22
        }
      ]
    },
    {
      "cell_type": "code",
      "source": [
        "#Create loss function\n",
        "criterion = nn.CrossEntropyLoss()\n",
        "# Create optimizer\n",
        "opt = Adam(classifier.parameters(), lr = 0.001)"
      ],
      "metadata": {
        "id": "OrOAN3wIn0td"
      },
      "execution_count": 28,
      "outputs": []
    },
    {
      "cell_type": "code",
      "source": [
        "#training\n",
        "from tqdm.auto import tqdm\n",
        "epochs = 10\n",
        "running_loss = 0\n",
        "for e in tqdm(range(epochs)):\n",
        "\n",
        "  for i, batch in enumerate(trainloader, 0):\n",
        "    images, label = batch\n",
        "\n",
        "    output = classifier(images)\n",
        "    loss = criterion(output,label)\n",
        "\n",
        "    opt.zero_grad()\n",
        "    loss.backward()\n",
        "    opt.step()\n",
        "\n",
        "    running_loss += loss.item()\n",
        "    if i % 50 == 49:\n",
        "      correct=0\n",
        "      total=0\n",
        "      with torch.no_grad():\n",
        "        for images, label in testloader:\n",
        "          output = classifier(images)\n",
        "\n",
        "          _, pred = torch.max(output.data,1)\n",
        "          total +=label.size(0)\n",
        "          correct += (pred == label).sum().item()\n",
        "\n",
        "        accuracy = 100 * correct / total\n",
        "        epoch_num = e +1\n",
        "        actual_loss = running_loss/50\n",
        "        print(f'Epoch: {epoch_num}, Mini-Batches Completed: {(i+1)}, Loss: {actual_loss:.3f}, Test Accuracy = {accuracy:.3f}%')\n",
        "        running_loss = 0.0\n"
      ],
      "metadata": {
        "colab": {
          "base_uri": "https://localhost:8080/",
          "height": 1000,
          "referenced_widgets": [
            "ef7e337a71dc4a4fbbc492e8172e809f",
            "f137cd2057744155976a03577a32df24",
            "debf86cfcbbe497fbf5cc95371d4542c",
            "7cd3163692f44d8d928f9e8f443ea45f",
            "6f2d041d99de4a28bef9524f987cde12",
            "6ada7f8180c7452abec3491d5ec6621e",
            "c9f75caf43de4074b32a20a6446a3c1f",
            "2f8f004f63d3413c8e01352836851496",
            "7b9904fd0d064f588954da00a6e3b39d",
            "661de94599ba499daf5aff5a0c20ace4",
            "e7831b38b18c4de28cb88b2ed0046a6d"
          ]
        },
        "id": "uF25AA_Uostb",
        "outputId": "053ce129-1d50-4007-e70f-46ba097b5ca9"
      },
      "execution_count": 35,
      "outputs": [
        {
          "output_type": "display_data",
          "data": {
            "text/plain": [
              "  0%|          | 0/10 [00:00<?, ?it/s]"
            ],
            "application/vnd.jupyter.widget-view+json": {
              "version_major": 2,
              "version_minor": 0,
              "model_id": "ef7e337a71dc4a4fbbc492e8172e809f"
            }
          },
          "metadata": {}
        },
        {
          "output_type": "stream",
          "name": "stdout",
          "text": [
            "Epoch: 1, Mini-Batches Completed: 50, Loss: 0.030, Test Accuracy = 98.820%\n",
            "Epoch: 1, Mini-Batches Completed: 100, Loss: 0.032, Test Accuracy = 98.810%\n",
            "Epoch: 1, Mini-Batches Completed: 150, Loss: 0.035, Test Accuracy = 98.780%\n",
            "Epoch: 1, Mini-Batches Completed: 200, Loss: 0.036, Test Accuracy = 98.690%\n",
            "Epoch: 1, Mini-Batches Completed: 250, Loss: 0.035, Test Accuracy = 98.500%\n",
            "Epoch: 1, Mini-Batches Completed: 300, Loss: 0.031, Test Accuracy = 98.520%\n",
            "Epoch: 1, Mini-Batches Completed: 350, Loss: 0.031, Test Accuracy = 98.900%\n",
            "Epoch: 1, Mini-Batches Completed: 400, Loss: 0.033, Test Accuracy = 98.850%\n",
            "Epoch: 1, Mini-Batches Completed: 450, Loss: 0.021, Test Accuracy = 98.720%\n",
            "Epoch: 2, Mini-Batches Completed: 50, Loss: 0.033, Test Accuracy = 98.880%\n",
            "Epoch: 2, Mini-Batches Completed: 100, Loss: 0.018, Test Accuracy = 99.000%\n",
            "Epoch: 2, Mini-Batches Completed: 150, Loss: 0.019, Test Accuracy = 98.800%\n",
            "Epoch: 2, Mini-Batches Completed: 200, Loss: 0.017, Test Accuracy = 98.970%\n",
            "Epoch: 2, Mini-Batches Completed: 250, Loss: 0.028, Test Accuracy = 98.750%\n",
            "Epoch: 2, Mini-Batches Completed: 300, Loss: 0.025, Test Accuracy = 98.790%\n",
            "Epoch: 2, Mini-Batches Completed: 350, Loss: 0.020, Test Accuracy = 98.880%\n",
            "Epoch: 2, Mini-Batches Completed: 400, Loss: 0.022, Test Accuracy = 98.800%\n",
            "Epoch: 2, Mini-Batches Completed: 450, Loss: 0.022, Test Accuracy = 98.860%\n",
            "Epoch: 3, Mini-Batches Completed: 50, Loss: 0.024, Test Accuracy = 98.960%\n",
            "Epoch: 3, Mini-Batches Completed: 100, Loss: 0.014, Test Accuracy = 98.750%\n",
            "Epoch: 3, Mini-Batches Completed: 150, Loss: 0.014, Test Accuracy = 98.900%\n",
            "Epoch: 3, Mini-Batches Completed: 200, Loss: 0.012, Test Accuracy = 98.900%\n",
            "Epoch: 3, Mini-Batches Completed: 250, Loss: 0.014, Test Accuracy = 99.010%\n",
            "Epoch: 3, Mini-Batches Completed: 300, Loss: 0.019, Test Accuracy = 98.940%\n",
            "Epoch: 3, Mini-Batches Completed: 350, Loss: 0.014, Test Accuracy = 99.060%\n",
            "Epoch: 3, Mini-Batches Completed: 400, Loss: 0.014, Test Accuracy = 99.000%\n",
            "Epoch: 3, Mini-Batches Completed: 450, Loss: 0.011, Test Accuracy = 99.160%\n",
            "Epoch: 4, Mini-Batches Completed: 50, Loss: 0.012, Test Accuracy = 98.980%\n",
            "Epoch: 4, Mini-Batches Completed: 100, Loss: 0.009, Test Accuracy = 98.950%\n",
            "Epoch: 4, Mini-Batches Completed: 150, Loss: 0.010, Test Accuracy = 99.110%\n",
            "Epoch: 4, Mini-Batches Completed: 200, Loss: 0.011, Test Accuracy = 99.120%\n",
            "Epoch: 4, Mini-Batches Completed: 250, Loss: 0.007, Test Accuracy = 98.970%\n",
            "Epoch: 4, Mini-Batches Completed: 300, Loss: 0.005, Test Accuracy = 98.900%\n",
            "Epoch: 4, Mini-Batches Completed: 350, Loss: 0.011, Test Accuracy = 98.870%\n",
            "Epoch: 4, Mini-Batches Completed: 400, Loss: 0.017, Test Accuracy = 98.920%\n",
            "Epoch: 4, Mini-Batches Completed: 450, Loss: 0.010, Test Accuracy = 98.860%\n",
            "Epoch: 5, Mini-Batches Completed: 50, Loss: 0.013, Test Accuracy = 98.940%\n",
            "Epoch: 5, Mini-Batches Completed: 100, Loss: 0.009, Test Accuracy = 98.980%\n",
            "Epoch: 5, Mini-Batches Completed: 150, Loss: 0.008, Test Accuracy = 99.050%\n",
            "Epoch: 5, Mini-Batches Completed: 200, Loss: 0.008, Test Accuracy = 98.730%\n",
            "Epoch: 5, Mini-Batches Completed: 250, Loss: 0.011, Test Accuracy = 98.810%\n",
            "Epoch: 5, Mini-Batches Completed: 300, Loss: 0.005, Test Accuracy = 98.930%\n",
            "Epoch: 5, Mini-Batches Completed: 350, Loss: 0.011, Test Accuracy = 98.930%\n",
            "Epoch: 5, Mini-Batches Completed: 400, Loss: 0.011, Test Accuracy = 98.860%\n",
            "Epoch: 5, Mini-Batches Completed: 450, Loss: 0.012, Test Accuracy = 98.930%\n",
            "Epoch: 6, Mini-Batches Completed: 50, Loss: 0.015, Test Accuracy = 99.010%\n",
            "Epoch: 6, Mini-Batches Completed: 100, Loss: 0.004, Test Accuracy = 98.990%\n",
            "Epoch: 6, Mini-Batches Completed: 150, Loss: 0.004, Test Accuracy = 98.850%\n",
            "Epoch: 6, Mini-Batches Completed: 200, Loss: 0.005, Test Accuracy = 99.060%\n",
            "Epoch: 6, Mini-Batches Completed: 250, Loss: 0.006, Test Accuracy = 98.900%\n",
            "Epoch: 6, Mini-Batches Completed: 300, Loss: 0.005, Test Accuracy = 98.790%\n",
            "Epoch: 6, Mini-Batches Completed: 350, Loss: 0.009, Test Accuracy = 98.960%\n",
            "Epoch: 6, Mini-Batches Completed: 400, Loss: 0.010, Test Accuracy = 98.940%\n",
            "Epoch: 6, Mini-Batches Completed: 450, Loss: 0.011, Test Accuracy = 98.850%\n",
            "Epoch: 7, Mini-Batches Completed: 50, Loss: 0.010, Test Accuracy = 98.970%\n",
            "Epoch: 7, Mini-Batches Completed: 100, Loss: 0.002, Test Accuracy = 99.010%\n",
            "Epoch: 7, Mini-Batches Completed: 150, Loss: 0.003, Test Accuracy = 99.120%\n",
            "Epoch: 7, Mini-Batches Completed: 200, Loss: 0.005, Test Accuracy = 98.800%\n",
            "Epoch: 7, Mini-Batches Completed: 250, Loss: 0.009, Test Accuracy = 98.950%\n",
            "Epoch: 7, Mini-Batches Completed: 300, Loss: 0.006, Test Accuracy = 98.840%\n",
            "Epoch: 7, Mini-Batches Completed: 350, Loss: 0.004, Test Accuracy = 98.870%\n",
            "Epoch: 7, Mini-Batches Completed: 400, Loss: 0.003, Test Accuracy = 98.740%\n",
            "Epoch: 7, Mini-Batches Completed: 450, Loss: 0.014, Test Accuracy = 98.590%\n",
            "Epoch: 8, Mini-Batches Completed: 50, Loss: 0.015, Test Accuracy = 99.060%\n",
            "Epoch: 8, Mini-Batches Completed: 100, Loss: 0.004, Test Accuracy = 99.010%\n",
            "Epoch: 8, Mini-Batches Completed: 150, Loss: 0.004, Test Accuracy = 98.870%\n",
            "Epoch: 8, Mini-Batches Completed: 200, Loss: 0.012, Test Accuracy = 98.680%\n",
            "Epoch: 8, Mini-Batches Completed: 250, Loss: 0.006, Test Accuracy = 98.980%\n",
            "Epoch: 8, Mini-Batches Completed: 300, Loss: 0.004, Test Accuracy = 98.990%\n",
            "Epoch: 8, Mini-Batches Completed: 350, Loss: 0.003, Test Accuracy = 99.060%\n",
            "Epoch: 8, Mini-Batches Completed: 400, Loss: 0.006, Test Accuracy = 98.920%\n",
            "Epoch: 8, Mini-Batches Completed: 450, Loss: 0.005, Test Accuracy = 98.690%\n",
            "Epoch: 9, Mini-Batches Completed: 50, Loss: 0.009, Test Accuracy = 98.940%\n",
            "Epoch: 9, Mini-Batches Completed: 100, Loss: 0.003, Test Accuracy = 98.740%\n",
            "Epoch: 9, Mini-Batches Completed: 150, Loss: 0.006, Test Accuracy = 98.710%\n",
            "Epoch: 9, Mini-Batches Completed: 200, Loss: 0.004, Test Accuracy = 98.690%\n",
            "Epoch: 9, Mini-Batches Completed: 250, Loss: 0.008, Test Accuracy = 98.620%\n",
            "Epoch: 9, Mini-Batches Completed: 300, Loss: 0.006, Test Accuracy = 98.610%\n",
            "Epoch: 9, Mini-Batches Completed: 350, Loss: 0.008, Test Accuracy = 98.890%\n",
            "Epoch: 9, Mini-Batches Completed: 400, Loss: 0.007, Test Accuracy = 98.980%\n",
            "Epoch: 9, Mini-Batches Completed: 450, Loss: 0.008, Test Accuracy = 98.720%\n",
            "Epoch: 10, Mini-Batches Completed: 50, Loss: 0.013, Test Accuracy = 98.750%\n",
            "Epoch: 10, Mini-Batches Completed: 100, Loss: 0.006, Test Accuracy = 98.930%\n",
            "Epoch: 10, Mini-Batches Completed: 150, Loss: 0.003, Test Accuracy = 99.040%\n",
            "Epoch: 10, Mini-Batches Completed: 200, Loss: 0.005, Test Accuracy = 99.010%\n",
            "Epoch: 10, Mini-Batches Completed: 250, Loss: 0.004, Test Accuracy = 98.840%\n",
            "Epoch: 10, Mini-Batches Completed: 300, Loss: 0.006, Test Accuracy = 98.960%\n",
            "Epoch: 10, Mini-Batches Completed: 350, Loss: 0.003, Test Accuracy = 98.880%\n",
            "Epoch: 10, Mini-Batches Completed: 400, Loss: 0.006, Test Accuracy = 99.020%\n",
            "Epoch: 10, Mini-Batches Completed: 450, Loss: 0.006, Test Accuracy = 98.920%\n"
          ]
        }
      ]
    },
    {
      "cell_type": "markdown",
      "source": [
        "# **Training with TensorFlow:**"
      ],
      "metadata": {
        "id": "vcIJvGuMt7OQ"
      }
    },
    {
      "cell_type": "code",
      "source": [
        "import tensorflow\n",
        "from tensorflow.keras.models import Sequential\n",
        "from tensorflow.keras.layers import Conv2D, MaxPooling2D, Flatten, Dense\n",
        "from tensorflow.keras.optimizers import Adam\n",
        "from tensorflow.keras.losses import CategoricalCrossentropy\n",
        "from tensorflow.keras.utils import to_categorical\n",
        "from tensorflow.keras.datasets import mnist\n"
      ],
      "metadata": {
        "id": "x17yseLtt-eV"
      },
      "execution_count": 38,
      "outputs": []
    },
    {
      "cell_type": "code",
      "source": [
        "#import the dataset\n",
        "(x_train, y_train), (x_test, y_test) = mnist.load_data()"
      ],
      "metadata": {
        "colab": {
          "base_uri": "https://localhost:8080/"
        },
        "id": "4UmJrB5Kuklx",
        "outputId": "88b2eaec-5232-4034-9ebc-22c1b757c5a2"
      },
      "execution_count": 39,
      "outputs": [
        {
          "output_type": "stream",
          "name": "stdout",
          "text": [
            "Downloading data from https://storage.googleapis.com/tensorflow/tf-keras-datasets/mnist.npz\n",
            "11490434/11490434 [==============================] - 2s 0us/step\n"
          ]
        }
      ]
    },
    {
      "cell_type": "code",
      "source": [
        "#preprocessing\n",
        "img_h = x_train.data.shape[1]\n",
        "img_w = x_train.data.shape[2]\n",
        "\n",
        "x_train = x_train.reshape(x_train.data.shape[0], img_h, img_w,1)\n",
        "x_test = x_test.reshape(x_test.data.shape[0], img_h, img_w, 1)"
      ],
      "metadata": {
        "id": "8BZv1CYAuyhO"
      },
      "execution_count": 49,
      "outputs": []
    },
    {
      "cell_type": "code",
      "source": [
        "print(x_train.shape)\n",
        "\n"
      ],
      "metadata": {
        "colab": {
          "base_uri": "https://localhost:8080/"
        },
        "id": "EaUCXAtyvhlL",
        "outputId": "8eda7df6-f436-4aa2-9519-8e365e2682d4"
      },
      "execution_count": 52,
      "outputs": [
        {
          "output_type": "stream",
          "name": "stdout",
          "text": [
            "(60000, 28, 28, 1)\n"
          ]
        }
      ]
    },
    {
      "cell_type": "code",
      "source": [
        "#Create the model\n",
        "Net = Sequential()\n",
        "Net.add(Conv2D(32, (3,3), activation = 'relu', input_shape = (28,28,1))),\n",
        "Net.add(Conv2D(64, (3,3), activation = 'relu')),\n",
        "Net.add(MaxPooling2D(2,2)),\n",
        "Net.add(Flatten()),\n",
        "Net.add(Dense(128, activation = 'relu')),\n",
        "Net.add(Dense(10, activation = 'softmax'))\n",
        "\n",
        "\n",
        "\n",
        "Net.compile(Adam(lr = 0.001), loss = CategoricalCrossentropy(), metrics = ['accuracy'])\n",
        "\n",
        "print(Net.summary())"
      ],
      "metadata": {
        "colab": {
          "base_uri": "https://localhost:8080/"
        },
        "id": "Fkok4d1VwTUQ",
        "outputId": "3bcba69b-6eb0-448d-f348-70127d46eefc"
      },
      "execution_count": 56,
      "outputs": [
        {
          "output_type": "stream",
          "name": "stderr",
          "text": [
            "WARNING:absl:`lr` is deprecated in Keras optimizer, please use `learning_rate` or use the legacy optimizer, e.g.,tf.keras.optimizers.legacy.Adam.\n"
          ]
        },
        {
          "output_type": "stream",
          "name": "stdout",
          "text": [
            "Model: \"sequential\"\n",
            "_________________________________________________________________\n",
            " Layer (type)                Output Shape              Param #   \n",
            "=================================================================\n",
            " conv2d (Conv2D)             (None, 26, 26, 32)        320       \n",
            "                                                                 \n",
            " conv2d_1 (Conv2D)           (None, 24, 24, 64)        18496     \n",
            "                                                                 \n",
            " max_pooling2d (MaxPooling2  (None, 12, 12, 64)        0         \n",
            " D)                                                              \n",
            "                                                                 \n",
            " flatten (Flatten)           (None, 9216)              0         \n",
            "                                                                 \n",
            " dense (Dense)               (None, 128)               1179776   \n",
            "                                                                 \n",
            " dense_1 (Dense)             (None, 10)                1290      \n",
            "                                                                 \n",
            "=================================================================\n",
            "Total params: 1199882 (4.58 MB)\n",
            "Trainable params: 1199882 (4.58 MB)\n",
            "Non-trainable params: 0 (0.00 Byte)\n",
            "_________________________________________________________________\n",
            "None\n"
          ]
        }
      ]
    },
    {
      "cell_type": "code",
      "source": [
        "#training\n",
        "Net.fit(x_train, to_categorical(y_train), epochs = 10, validation_data = (x_test, to_categorical(y_test)))"
      ],
      "metadata": {
        "colab": {
          "base_uri": "https://localhost:8080/"
        },
        "id": "TWvpkxH1xOTO",
        "outputId": "2973ae70-3f8e-497d-e81f-4c312ce33113"
      },
      "execution_count": 57,
      "outputs": [
        {
          "output_type": "stream",
          "name": "stdout",
          "text": [
            "Epoch 1/10\n",
            "1875/1875 [==============================] - 11s 3ms/step - loss: 0.3002 - accuracy: 0.9570 - val_loss: 0.0811 - val_accuracy: 0.9774\n",
            "Epoch 2/10\n",
            "1875/1875 [==============================] - 6s 3ms/step - loss: 0.0534 - accuracy: 0.9834 - val_loss: 0.0568 - val_accuracy: 0.9832\n",
            "Epoch 3/10\n",
            "1875/1875 [==============================] - 6s 3ms/step - loss: 0.0386 - accuracy: 0.9877 - val_loss: 0.0476 - val_accuracy: 0.9851\n",
            "Epoch 4/10\n",
            "1875/1875 [==============================] - 6s 3ms/step - loss: 0.0306 - accuracy: 0.9902 - val_loss: 0.0570 - val_accuracy: 0.9831\n",
            "Epoch 5/10\n",
            "1875/1875 [==============================] - 6s 3ms/step - loss: 0.0230 - accuracy: 0.9927 - val_loss: 0.0639 - val_accuracy: 0.9846\n",
            "Epoch 6/10\n",
            "1875/1875 [==============================] - 6s 3ms/step - loss: 0.0245 - accuracy: 0.9929 - val_loss: 0.0719 - val_accuracy: 0.9854\n",
            "Epoch 7/10\n",
            "1875/1875 [==============================] - 6s 3ms/step - loss: 0.0159 - accuracy: 0.9951 - val_loss: 0.1015 - val_accuracy: 0.9842\n",
            "Epoch 8/10\n",
            "1875/1875 [==============================] - 6s 3ms/step - loss: 0.0181 - accuracy: 0.9951 - val_loss: 0.0748 - val_accuracy: 0.9850\n",
            "Epoch 9/10\n",
            "1875/1875 [==============================] - 6s 3ms/step - loss: 0.0152 - accuracy: 0.9957 - val_loss: 0.1062 - val_accuracy: 0.9838\n",
            "Epoch 10/10\n",
            "1875/1875 [==============================] - 6s 3ms/step - loss: 0.0185 - accuracy: 0.9955 - val_loss: 0.0900 - val_accuracy: 0.9851\n"
          ]
        },
        {
          "output_type": "execute_result",
          "data": {
            "text/plain": [
              "<keras.src.callbacks.History at 0x7c8c3ff2a6b0>"
            ]
          },
          "metadata": {},
          "execution_count": 57
        }
      ]
    },
    {
      "cell_type": "code",
      "source": [
        "validation = Net.evaluate(x_test, to_categorical(y_test))"
      ],
      "metadata": {
        "colab": {
          "base_uri": "https://localhost:8080/"
        },
        "id": "GWC0fOq8x9LQ",
        "outputId": "078aff45-5c8f-41cc-8ddf-bd2a665504ef"
      },
      "execution_count": 58,
      "outputs": [
        {
          "output_type": "stream",
          "name": "stdout",
          "text": [
            "313/313 [==============================] - 1s 2ms/step - loss: 0.0900 - accuracy: 0.9851\n"
          ]
        }
      ]
    }
  ]
}